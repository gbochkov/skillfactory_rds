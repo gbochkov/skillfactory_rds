{
  "nbformat": 4,
  "nbformat_minor": 0,
  "metadata": {
    "colab": {
      "name": "ds_unit4_pr_description.ipynb",
      "provenance": [],
      "include_colab_link": true
    },
    "kernelspec": {
      "display_name": "Python 3",
      "language": "python",
      "name": "python3"
    },
    "language_info": {
      "codemirror_mode": {
        "name": "ipython",
        "version": 3
      },
      "file_extension": ".py",
      "mimetype": "text/x-python",
      "name": "python",
      "nbconvert_exporter": "python",
      "pygments_lexer": "ipython3",
      "version": "3.7.4"
    }
  },
  "cells": [
    {
      "cell_type": "markdown",
      "metadata": {
        "id": "view-in-github",
        "colab_type": "text"
      },
      "source": [
        "<a href=\"https://colab.research.google.com/github/gbochkov/skillfactory_rds/blob/master/module_2/ds_unit4_pr_description.ipynb\" target=\"_parent\"><img src=\"https://colab.research.google.com/assets/colab-badge.svg\" alt=\"Open In Colab\"/></a>"
      ]
    },
    {
      "cell_type": "markdown",
      "metadata": {
        "colab_type": "text",
        "id": "WnvFTrBRfybG"
      },
      "source": [
        "# Проект \"Разведывательный анализ данных\" (EDA)\n"
      ]
    },
    {
      "cell_type": "markdown",
      "metadata": {
        "colab_type": "text",
        "id": "j_bthNM7fybH"
      },
      "source": [
        "## Основные цели и задачи проекта"
      ]
    },
    {
      "cell_type": "markdown",
      "metadata": {
        "colab_type": "text",
        "id": "8Ff-ihKHfybI"
      },
      "source": [
        "**Цель** проекта — отследить влияние условий жизни учащихся в возрасте от 15 до 22 лет на их успеваемость по математике, чтобы на ранней стадии выявлять студентов, находящихся в группе риска.\n",
        "\n",
        "**Основная задача** проекта -  подготовка датасета путем проведения разведывательного анализа данных **EDA** для последующего построения модели, предсказывающей результаты госэкзамена по математике для каждого ученика школы.    \n"
      ]
    },
    {
      "cell_type": "markdown",
      "metadata": {
        "colab_type": "text",
        "id": "EvBflSJtfybJ"
      },
      "source": [
        "### Информация о данных"
      ]
    },
    {
      "cell_type": "markdown",
      "metadata": {
        "colab_type": "text",
        "id": "bWR5s5pBfybJ"
      },
      "source": [
        "Модель строится на основе набора <a href=\"https://lms.skillfactory.ru/assets/courseware/v1/425d6864db937e4ebabc972e581769ab/asset-v1:Skillfactory+DST-10+22JAN2020+type@asset+block/stud_math.csv\">данных</a>, содержащем информацию об учениках:\n",
        "\n",
        "<ol>\n",
        "<li> <b>school</b> — аббревиатура школы, в которой учится ученик</li>\n",
        "<li> <b>sex</b> — пол ученика ('F' - женский, 'M' - мужской)</li>     \n",
        "<li> <b>age</b> — возраст ученика (от 15 до 22)</li>\n",
        "<li> <b>address</b> — тип адреса ученика ('U' - городской, 'R' - за городом)</li>\n",
        "<li> <b>famsize</b> — размер семьи ('LE3' - не более трёх, 'GT3'- более трёх)</li>   \n",
        "<li> <b>Pstatus</b> — статус совместного жилья родителей ('T' - живут вместе 'A' - раздельно)</li>     \n",
        "<li> <b>Medu</b> — образование матери (0 - нет, 1 - 4 класса, 2 - 5-9 классы, 3 - среднее специальное или 11 классов, 4 - высшее)</li>     \n",
        "<li> <b>Fedu</b> — образование отца (0 - нет, 1 - 4 класса, 2 - 5-9 классы, 3 - среднее специальное или 11 классов, 4 - высшее)</li>     \n",
        "<li> <b>Mjob</b> — работа матери ('teacher' - учитель, 'health' - сфера здравоохранения, 'services' - гос служба, 'at_home' - не работает, 'other' - другое)</li>     \n",
        "<li> <b>Fjob</b> — работа отца ('teacher' - учитель, 'health' - сфера здравоохранения, 'services' - гос служба, 'at_home' - не работает, 'other' - другое)</li> \n",
        "<li> <b>reason</b> — причина выбора школы ('home' - близость к дому, 'reputation' - репутация школы, 'course' - образовательная программа, 'other' - другое)</li>   \n",
        "<li> <b>guardian</b> — опекун ('mother' - мать, 'father' - отец, 'other' - другое)</li>     \n",
        "<li> <b>traveltime</b> — время в пути до школы (1 - менее 15 мин., 2 - 15-30 мин., 3 - 30-60 мин., 4 -  более 60 мин.)</li>     \n",
        "<li> <b>studytime</b> — время на учёбу помимо школы в неделю (1 - менее 2 часов, 2 - 2-5 часов, 3 - 5-10 часов, 4 - более 10 часов)</li>      \n",
        "<li> <b>failures</b> — количество внеучебных неудач (n, если n от 1 до 2, иначе 4)</li>     \n",
        "<li> <b>schoolsup</b> — дополнительная образовательная поддержка (yes или no)</li> \n",
        "<li> <b>famsup</b> — семейная образовательная поддержка (yes или no)</li>   \n",
        "<li> <b>paid</b> — дополнительные платные занятия по математике (yes или no)</li>     \n",
        "<li> <b>activities</b> — дополнительные внеучебные занятия (yes или no)</li>     \n",
        "<li> <b>nursery</b> — посещал детский сад (yes или no)</li>     \n",
        "<li> <b>higher</b> — хочет получить высшее образование (yes или no)</li>     \n",
        "<li> <b>internet</b> — наличие интернета дома (yes или no)</li> \n",
        "<li> <b>romantic</b> — в романтических отношениях (yes или no)</li>   \n",
        "<li> <b>famrel</b> —  семейные отношения (от 1 - очень плохо до 5 - очень хорошо)</li>     \n",
        "<li> <b>freetime</b> —  свободное время после школы (от 1 - очень мало до 5 - очень много)</li>     \n",
        "<li> <b>goout</b> — проведение времени с друзьями (от 1 - очень мало до 5 - очень много)</li>     \n",
        "<li> <b>health</b> —  текущее состояние здоровья (от 1 - очень плохо до 5 - очень хорошо)</li>     \n",
        "<li> <b>absences</b> — количество пропущенных занятий</li> \n",
        "<li> <b>score</b> — баллы по госэкзамену по математике</li>     \n",
        "</ol>\n"
      ]
    },
    {
      "cell_type": "markdown",
      "metadata": {
        "colab_type": "text",
        "id": "ouiJtMpmfybK"
      },
      "source": [
        "### Этапы решения задачи"
      ]
    },
    {
      "cell_type": "markdown",
      "metadata": {
        "colab_type": "text",
        "id": "ftJfwE96fybL"
      },
      "source": [
        "<ol>\n",
        "<li>Проведение <b>первичной обработки</b> данных.</li>\n",
        "<li>Оценка <b>распределения признака</b> для числовых переменных, устранить выбросы.</li>\n",
        "<li>Оценка количество <b>уникальных значений</b> для номинативных переменных.</li>\n",
        "<li><b>Преобразование</b> данных.</li>\n",
        "<li>Проведение <b>корреляционного анализа</b> количественных переменных.</li>\n",
        "<li>Отбор <b>не коррелирующих</b> переменные.</li>\n",
        "<li>Проведение анализа номинативных переменных и устранить те, которые <b>не влияют</b> на предсказываемую величину.</li>\n",
        "<li><b>Формулирование выводов</b> относительно качества данных и тех переменных, которые будут использоваться для построения модели.</li>\n"
      ]
    },
    {
      "cell_type": "markdown",
      "metadata": {
        "id": "kgUvKB2Q01d0",
        "colab_type": "text"
      },
      "source": [
        "### Файлы проекта\n",
        "<ol>\n",
        "<li><b>stud_math.csv</b> - исследуемый датасет</li>\n",
        "<li><b>ds_unit4_pr.ipynb</b> - файл проекта</li>\n",
        "<li><b>ds_unit4_pr_description.ipynb</b> - краткое описание проекта</li>"
      ]
    }
  ]
}